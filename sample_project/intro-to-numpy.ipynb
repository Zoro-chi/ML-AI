{
 "cells": [
  {
   "cell_type": "code",
   "execution_count": 1,
   "id": "36f44de4-b792-4a6f-bdc3-e3d6f04a9cdb",
   "metadata": {},
   "outputs": [],
   "source": [
    "import numpy as np"
   ]
  },
  {
   "cell_type": "markdown",
   "id": "05eabed6-1e62-4ddd-ace9-59228e61c4a4",
   "metadata": {},
   "source": [
    "## DataTypes & Attributes"
   ]
  },
  {
   "cell_type": "code",
   "execution_count": 3,
   "id": "4f49ff12-32b2-4f87-93d7-23c24bb7ec46",
   "metadata": {},
   "outputs": [
    {
     "data": {
      "text/plain": [
       "array([[2, 5, 3, 7, 1],\n",
       "       [2, 3, 2, 5, 5],\n",
       "       [7, 1, 9, 9, 5]])"
      ]
     },
     "execution_count": 3,
     "metadata": {},
     "output_type": "execute_result"
    }
   ],
   "source": [
    "random_array = np.random.randint(0, 10, (3, 5))\n",
    "random_array"
   ]
  },
  {
   "cell_type": "code",
   "execution_count": 5,
   "id": "3d27187d-f1cc-4e06-8429-5a23da7a41d5",
   "metadata": {},
   "outputs": [
    {
     "data": {
      "text/plain": [
       "array([0, 3, 6, 9])"
      ]
     },
     "execution_count": 5,
     "metadata": {},
     "output_type": "execute_result"
    }
   ],
   "source": [
    "random_array2 = np.arange(0, 10, 3)\n",
    "random_array2"
   ]
  },
  {
   "cell_type": "code",
   "execution_count": 8,
   "id": "00cd366e-2fa3-4b32-82fd-693e91abf79e",
   "metadata": {},
   "outputs": [
    {
     "data": {
      "text/plain": [
       "array([[0.09749334, 0.59571618, 0.24821993],\n",
       "       [0.18403805, 0.8507359 , 0.42709142],\n",
       "       [0.01787458, 0.59509514, 0.80653332],\n",
       "       [0.2957163 , 0.2407379 , 0.81884316],\n",
       "       [0.03515408, 0.36866117, 0.58223713]])"
      ]
     },
     "execution_count": 8,
     "metadata": {},
     "output_type": "execute_result"
    }
   ],
   "source": [
    "random_array3 = np.random.random([5,3])\n",
    "random_array3"
   ]
  },
  {
   "cell_type": "markdown",
   "id": "0a028e3b-b59f-4df8-9013-3e03fda58ab5",
   "metadata": {},
   "source": [
    "## 3 Viewing Arrays and Matrices"
   ]
  },
  {
   "cell_type": "code",
   "execution_count": null,
   "id": "5158b1fb-0417-4a32-bd80-7a920154b52b",
   "metadata": {},
   "outputs": [],
   "source": [
    "np.unique"
   ]
  }
 ],
 "metadata": {
  "kernelspec": {
   "display_name": "Python 3 (ipykernel)",
   "language": "python",
   "name": "python3"
  },
  "language_info": {
   "codemirror_mode": {
    "name": "ipython",
    "version": 3
   },
   "file_extension": ".py",
   "mimetype": "text/x-python",
   "name": "python",
   "nbconvert_exporter": "python",
   "pygments_lexer": "ipython3",
   "version": "3.12.7"
  }
 },
 "nbformat": 4,
 "nbformat_minor": 5
}
